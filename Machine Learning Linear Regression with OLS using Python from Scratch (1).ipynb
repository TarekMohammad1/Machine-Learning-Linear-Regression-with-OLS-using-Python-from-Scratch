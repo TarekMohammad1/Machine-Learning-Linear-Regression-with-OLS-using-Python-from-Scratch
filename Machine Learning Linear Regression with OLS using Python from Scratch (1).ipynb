{
 "cells": [
  {
   "cell_type": "code",
   "execution_count": 1,
   "metadata": {
    "scrolled": true
   },
   "outputs": [
    {
     "name": "stdout",
     "output_type": "stream",
     "text": [
      "\n",
      "The following command must be run outside of the IPython shell:\n",
      "\n",
      "    $ pip install statsmodels\n",
      "\n",
      "The Python package manager (pip) can only be used from outside of IPython.\n",
      "Please reissue the `pip` command in a separate terminal or command prompt.\n",
      "\n",
      "See the Python documentation for more information on how to install packages:\n",
      "\n",
      "    https://docs.python.org/3/installing/\n"
     ]
    }
   ],
   "source": [
    "pip install statsmodels"
   ]
  },
  {
   "cell_type": "code",
   "execution_count": 2,
   "metadata": {},
   "outputs": [],
   "source": [
    "import pandas as pd\n",
    "import numpy as np\n",
    "from scipy import stats\n",
    "from scipy.stats import norm, chi2, f\n",
    "import statsmodels.api as sm\n",
    "import matplotlib.pyplot as plt"
   ]
  },
  {
   "cell_type": "code",
   "execution_count": 3,
   "metadata": {},
   "outputs": [],
   "source": [
    "df = pd.read_csv(r\"C:\\Users\\USP\\Desktop\\MFE Sumemer Assignments\\Used Data.csv\")\n",
    "y = pd.DataFrame(df[\"UN\"] - df[\"RF\"])\n",
    "x = pd.DataFrame(df[\"MKT\"] - df[\"RF\"])"
   ]
  },
  {
   "cell_type": "code",
   "execution_count": 10,
   "metadata": {},
   "outputs": [],
   "source": [
    "def ols(x,y):\n",
    "    \n",
    "    n = 264\n",
    "    k = 1\n",
    "    \n",
    "    x_copy = x[:]\n",
    "    a = np.ones((264))\n",
    "    x = np.column_stack((a, x))\n",
    "    x = pd.DataFrame(x)\n",
    "    \n",
    "    # PART A:\n",
    "    \n",
    "    #Calculate Betas\n",
    "    betaMatrix = ((np.linalg.inv((x.transpose()).dot(x))).dot(x.transpose())).dot(y) \n",
    "    \n",
    "    #Calculate Errors\n",
    "    e = np.subtract(y,x.dot(betaMatrix)) \n",
    "    errorsSquared = np.power(e, 2) \n",
    "    \n",
    "    # Calculate RSSs\n",
    "    RSS = errorsSquared.sum(axis=0)  \n",
    "    meanY= (y.mean(axis=0)).transpose()  \n",
    "    TSS_1 = y - meanY\n",
    "    TSS = (np.power(TSS_1,2).sum(axis=0))\n",
    "    RsquaredY = 1-(RSS[0]/TSS[0]) \n",
    "    \n",
    "    # Adjusted R-squared\n",
    "    Rsquared_adjusted = 1 - ((1-RsquaredY)*(n-1))/(n-k-1)\n",
    "    \n",
    "    # Calculate Variance and Covariance\n",
    "        \n",
    "    variance = (errorsSquared.sum(axis=0))/n \n",
    "    covarianceMatrixY = variance[0]*(np.linalg.inv((x.transpose()).dot(x)))\n",
    "    \n",
    "    # standard error\n",
    "    \n",
    "    standarderror = np.sqrt(np.diag(covarianceMatrixY))\n",
    "    \n",
    "    # Part G, Hetero Cov-Var Matrix\n",
    "    \n",
    "    h1 = (np.linalg.inv((x.transpose()).dot(x))).dot(x.transpose())\n",
    "    h2 = np.diag(np.diag(e.dot(e.transpose())))\n",
    "    h3 = x.dot(((np.linalg.inv((x.transpose()).dot(x)))))\n",
    "\n",
    "    hetero_cov_var = h1.dot(h2).dot(h3)\n",
    "    \n",
    "    # Part h, standard error under hetero\n",
    "    \n",
    "    standarderror_hetero = np.sqrt(np.diag(hetero_cov_var))\n",
    "    \n",
    "    # Part j, AIC, BIC, Hannah_Quinn\n",
    "    \n",
    "    log_liklihood = -(n/2)*np.log(2*np.pi) - (n/2)*np.log(variance[0]) - (1/(2*variance[0]))*RSS\n",
    "\n",
    "    AIC = -2*log_liklihood + 2*(k+1)\n",
    "      \n",
    "    BIC = -2*log_liklihood + np.log(n)*(k+1)\n",
    "    \n",
    "    Hannah_Quinn = -2*log_liklihood + 2*(k+1)*np.log(np.log(n))\n",
    "    \n",
    "    # Part k, DW and BG\n",
    "    \n",
    "    # calculating difference of errors\n",
    "    \n",
    "    errors_diff = [np.power((e[0][i] - e[0][i-1]),2) for i in range(1, len(e[0]))] \n",
    "    \n",
    "    DW = np.sum(errors_diff)/RSS\n",
    "    \n",
    "    # Breusch-Godfrey test\n",
    "    \n",
    "    numberOflags = 10\n",
    "    meanEstimates = []\n",
    "    betaMatrix_errors = np.zeros((n-numberOflags, numberOflags))\n",
    "    for i in range(1,n-numberOflags+1):\n",
    "        betaMatrix_errors[i-1,:] = (((np.linalg.inv((e.iloc[-i-numberOflags:-i].transpose()).dot(e.iloc[-i-numberOflags:-i]))).dot(e.iloc[-i-numberOflags:-i].transpose())).transpose()).dot(e.iloc[-i])\n",
    "        meanEstimates.append(e.iloc[-i] - e.iloc[-i-numberOflags:-i].transpose().dot(betaMatrix_errors[i-1,:]))\n",
    "    \n",
    "    \n",
    "    godfrey = 1 - (np.sum(np.power(meanEstimates,2)))/(np.sum(np.power(e[numberOflags:],2)))\n",
    "    goffreyValue = godfrey*n\n",
    "    \n",
    "    # Part N\n",
    "    # Ramsey RESET\n",
    "    \n",
    "    predValues = x.dot(betaMatrix)\n",
    "    predNorm = (predValues - np.min(predValues))/(np.max(predValues) - np.min(predValues))\n",
    "    new_df = pd.DataFrame(np.column_stack((x_copy,np.power(predNorm,2),np.power(predNorm,3),np.power(predNorm,4))))\n",
    "\n",
    "    unrestrictedBetaMatrix = ((np.linalg.inv((new_df.transpose()).dot(new_df))).dot(new_df.transpose())).dot(y)\n",
    "    unrestrictedErrors = y - new_df.dot(unrestrictedBetaMatrix)\n",
    "    unrestrictedRSS = np.sum(np.power(unrestrictedErrors,2))\n",
    "    F = ((RSS - unrestrictedRSS)/3)/(unrestrictedRSS/(264-(1+1)))\n",
    "    p_value = 1-f.cdf(F, 3, 263)\n",
    "    \n",
    "    # Part O\n",
    "\n",
    "    betaMatrix0 = np.zeros((204, len(x.columns)))\n",
    "    for i in range(0,264-60):\n",
    "        betaMatrix0[i,:] = (((np.linalg.inv((x[i:i+60].transpose()).dot(x[i:i+60]))).dot(x[i:i+60].transpose())).dot(y[i:i+60])).transpose() \n",
    "    \n",
    "    return betaMatrix, RSS, RsquaredY, Rsquared_adjusted, covarianceMatrixY, standarderror,  hetero_cov_var, standarderror_hetero, AIC, BIC, Hannah_Quinn, DW, e, betaMatrix_errors, goffreyValue, p_value, betaMatrix0"
   ]
  },
  {
   "cell_type": "markdown",
   "metadata": {},
   "source": [
    "## Question 1"
   ]
  },
  {
   "cell_type": "code",
   "execution_count": 11,
   "metadata": {
    "scrolled": false
   },
   "outputs": [],
   "source": [
    "betaMatrix, RSS, RsquaredY, Rsquared_adjusted, covarianceMatrixY, standarderror,  hetero_cov_var, standarderror_hetero, AIC, BIC, Hannah_Quinn, DW, e, betaMatrix_errors, goffreyValue, p_value, betaMatrix0 = ols(x,y)\n"
   ]
  },
  {
   "cell_type": "code",
   "execution_count": 12,
   "metadata": {},
   "outputs": [
    {
     "name": "stdout",
     "output_type": "stream",
     "text": [
      "Standard Error\n",
      "[0.00418134 0.09397699]\n",
      "Residuals Sum of Squared\n",
      "0    1.195721\n",
      "dtype: float64\n"
     ]
    }
   ],
   "source": [
    "print(\"Standard Error\")\n",
    "print(standarderror)\n",
    "print(\"Residuals Sum of Squared\")\n",
    "print(RSS)"
   ]
  },
  {
   "cell_type": "markdown",
   "metadata": {},
   "source": [
    "### a)"
   ]
  },
  {
   "cell_type": "code",
   "execution_count": 13,
   "metadata": {
    "scrolled": true
   },
   "outputs": [
    {
     "name": "stdout",
     "output_type": "stream",
     "text": [
      "Beta Matrix Coefficients\n",
      "[[0.00804347]\n",
      " [0.0524295 ]]\n",
      "R Squared\n",
      "0.0011775864903335043\n",
      "Adjusted R Squared\n",
      "-0.002634712797871197\n"
     ]
    }
   ],
   "source": [
    "print(\"Beta Matrix Coefficients\")\n",
    "print(betaMatrix)\n",
    "\n",
    "print(\"R Squared\")\n",
    "print(RsquaredY)\n",
    "\n",
    "print(\"Adjusted R Squared\")\n",
    "print(Rsquared_adjusted)"
   ]
  },
  {
   "cell_type": "markdown",
   "metadata": {},
   "source": [
    "### b)"
   ]
  },
  {
   "cell_type": "code",
   "execution_count": 14,
   "metadata": {
    "scrolled": true
   },
   "outputs": [
    {
     "data": {
      "image/png": "[encoded data removed]",
      "text/plain": [
       "<Figure size 432x288 with 1 Axes>"
      ]
     },
     "metadata": {},
     "output_type": "display_data"
    }
   ],
   "source": [
    "# Part B:\n",
    "# Plotting\n",
    "\n",
    "plt.scatter(x,y)\n",
    "plt.plot(x[0], (betaMatrix[0] + betaMatrix[1]*x)[0])\n",
    "plt.xlabel(\"UN - RT\")\n",
    "plt.ylabel(\"MKT - RT\")\n",
    "plt.show()"
   ]
  },
  {
   "cell_type": "markdown",
   "metadata": {},
   "source": [
    "### c)"
   ]
  },
  {
   "cell_type": "code",
   "execution_count": 15,
   "metadata": {},
   "outputs": [
    {
     "name": "stdout",
     "output_type": "stream",
     "text": [
      "Covariance Matrix\n",
      "[[ 1.74836363e-05 -5.37728499e-05]\n",
      " [-5.37728499e-05  8.83167374e-03]]\n"
     ]
    }
   ],
   "source": [
    "print(\"Covariance Matrix\")\n",
    "print(covarianceMatrixY)"
   ]
  },
  {
   "cell_type": "markdown",
   "metadata": {},
   "source": [
    "### d) and i)"
   ]
  },
  {
   "cell_type": "code",
   "execution_count": 16,
   "metadata": {},
   "outputs": [
    {
     "name": "stdout",
     "output_type": "stream",
     "text": [
      "t-test for constant estimate with assumption of homoscedasticity\n",
      "t-statistics Value\n",
      "[1.92365744]\n",
      "Reject Null Hypothesis at confidence interval 90%\n",
      "True\n",
      "Reject Null Hypothesis at confidence interval 95%\n",
      "False\n",
      "Reject Null Hypothesis at confidence interval 99%\n",
      "False\n",
      "t-test for b1 estimate with assumption of homoscedasticity\n",
      "t-statistics Value\n",
      "[0.55789726]\n",
      "Reject Null Hypothesis at confidence interval 90%\n",
      "False\n",
      "Reject Null Hypothesis at confidence interval 95%\n",
      "False\n",
      "Reject Null Hypothesis at confidence interval 99%\n",
      "False\n",
      "t-test for constant estimate with assumption of heteroscedasticity\n",
      "t-statistics Value\n",
      "[1.93175472]\n",
      "Reject Null Hypothesis at confidence interval 90%\n",
      "True\n",
      "Reject Null Hypothesis at confidence interval 95%\n",
      "False\n",
      "Reject Null Hypothesis at confidence interval 99%\n",
      "False\n",
      "t-test for b1 estimate with assumption of heteroscedasticity\n",
      "t-statistics Value\n",
      "[0.46828235]\n",
      "Reject Null Hypothesis at confidence interval 90%\n",
      "False\n",
      "Reject Null Hypothesis at confidence interval 95%\n",
      "False\n",
      "Reject Null Hypothesis at confidence interval 99%\n",
      "False\n"
     ]
    }
   ],
   "source": [
    "# Part D, I\n",
    "\n",
    "def t_test(b, b0, se, n=None, k=None):\n",
    "    \n",
    "    # calculate t_test\n",
    "    \n",
    "    t=abs(b-b0)/se\n",
    "    print(\"t-statistics Value\")\n",
    "    print(t)\n",
    "    # critical values\n",
    "    if n is None or k is None:\n",
    "        critical_value_90= stats.norm.ppf(1-0.1/2)\n",
    "        critical_value_95= stats.norm.ppf(1-0.05/2)\n",
    "        critical_value_99= stats.norm.ppf(1-0.01/2)\n",
    "    else:\n",
    "        critical_value_90= stats.t.ppf(1-0.1/2, n-k)\n",
    "        critical_value_95= stats.t.ppf(1-0.05/2, n-k)\n",
    "        critical_value_99= stats.t.ppf(1-0.01/2, n-k)\n",
    "        \n",
    "    reject_null_90 = t > critical_value_90\n",
    "    reject_null_95 = t > critical_value_95   \n",
    "    reject_null_99 = t > critical_value_99\n",
    "    \n",
    "    print(\"Reject Null Hypothesis at confidence interval 90%\")\n",
    "    print(reject_null_90[0])\n",
    "    print(\"Reject Null Hypothesis at confidence interval 95%\")\n",
    "    print(reject_null_95[0])\n",
    "    print(\"Reject Null Hypothesis at confidence interval 99%\")\n",
    "    print(reject_null_99[0])\n",
    "    \n",
    "# Part D     \n",
    "print(\"t-test for constant estimate with assumption of homoscedasticity\")\n",
    "t_test(betaMatrix[0],0, standarderror[0], n=264, k=1)\n",
    "print(\"t-test for b1 estimate with assumption of homoscedasticity\")\n",
    "t_test(betaMatrix[1],0, standarderror[1], n=264, k=1)\n",
    "\n",
    "# Part I\n",
    "print(\"t-test for constant estimate with assumption of heteroscedasticity\")\n",
    "t_test(betaMatrix[0],0, standarderror_hetero[0], n=264, k=1)\n",
    "print(\"t-test for b1 estimate with assumption of heteroscedasticity\")\n",
    "t_test(betaMatrix[1],0, standarderror_hetero[1], n=264, k=1)"
   ]
  },
  {
   "cell_type": "markdown",
   "metadata": {},
   "source": [
    "### e)"
   ]
  },
  {
   "cell_type": "code",
   "execution_count": 17,
   "metadata": {},
   "outputs": [
    {
     "data": {
      "image/png": "[encoded data removed]",
      "text/plain": [
       "<Figure size 432x288 with 1 Axes>"
      ]
     },
     "metadata": {},
     "output_type": "display_data"
    },
    {
     "name": "stdout",
     "output_type": "stream",
     "text": [
      "Conclusion:\n",
      "There is no significant heteroskedasticity, due to the fact that there residuals error plot has no conical shape in the plot.\n"
     ]
    }
   ],
   "source": [
    "# Part E\n",
    "\n",
    "n=264\n",
    "\n",
    "plt.scatter(range(n),e)\n",
    "plt.show()\n",
    "\n",
    "print(\"Conclusion:\\nThere is no significant heteroskedasticity, due to the fact that there residuals error plot has no conical shape in the plot.\")"
   ]
  },
  {
   "cell_type": "markdown",
   "metadata": {},
   "source": [
    "### f)"
   ]
  },
  {
   "cell_type": "code",
   "execution_count": 20,
   "metadata": {},
   "outputs": [],
   "source": [
    "# Part F\n",
    "\n",
    "# confidence interval\n",
    "\n",
    "def CI(betaMatrix, se):\n",
    "    for i in [0.95, 0.975, 0.995]:\n",
    "        print(\"Confidence Interval at\")\n",
    "        print(i-(1-i))\n",
    "        print(\"Confidence Interval of Constant coefficient\")\n",
    "        CI_lowerb0 = betaMatrix[0]-norm.ppf(i)*se[0]\n",
    "        CI_upperb0 = betaMatrix[0]+norm.ppf(i)*se[0]\n",
    "        print(CI_lowerb0)\n",
    "        print(CI_upperb0)\n",
    "        \n",
    "        print(\"Confidence Interval of Beta-1 coefficient\")\n",
    "        CI_lowerb1 = betaMatrix[1]-norm.ppf(i)*se[1]\n",
    "        CI_upperb1= betaMatrix[1]+norm.ppf(i)*se[1]\n",
    "        print(CI_lowerb1)\n",
    "        print(CI_upperb1)\n",
    "        \n",
    "        if(len(se)==3):\n",
    "            print(\"Confidence Interval of Beta-1 coefficient\")\n",
    "            CI_lowerb2 = betaMatrix[2]-norm.ppf(i)*se[2]\n",
    "            CI_upperb2= betaMatrix[2]+norm.ppf(i)*se[2]\n",
    "            print(CI_lowerb2)\n",
    "            print(CI_upperb2)"
   ]
  },
  {
   "cell_type": "code",
   "execution_count": 21,
   "metadata": {
    "scrolled": true
   },
   "outputs": [
    {
     "name": "stdout",
     "output_type": "stream",
     "text": [
      "Confidence Interval at\n",
      "0.8999999999999999\n",
      "Confidence Interval of Constant coefficient\n",
      "[0.00116577]\n",
      "[0.01492117]\n",
      "Confidence Interval of Beta-1 coefficient\n",
      "[-0.10214888]\n",
      "[0.20700789]\n",
      "Confidence Interval at\n",
      "0.95\n",
      "Confidence Interval of Constant coefficient\n",
      "[-0.00015181]\n",
      "[0.01623876]\n",
      "Confidence Interval of Beta-1 coefficient\n",
      "[-0.131762]\n",
      "[0.23662101]\n",
      "Confidence Interval at\n",
      "0.99\n",
      "Confidence Interval of Constant coefficient\n",
      "[-0.00272695]\n",
      "[0.0188139]\n",
      "Confidence Interval of Beta-1 coefficient\n",
      "[-0.18963917]\n",
      "[0.29449818]\n"
     ]
    }
   ],
   "source": [
    "# Part F\n",
    "CI(betaMatrix,standarderror)"
   ]
  },
  {
   "cell_type": "markdown",
   "metadata": {},
   "source": [
    "### g)"
   ]
  },
  {
   "cell_type": "code",
   "execution_count": 22,
   "metadata": {},
   "outputs": [
    {
     "name": "stdout",
     "output_type": "stream",
     "text": [
      "Covariance Matrix under the assumption of heteroscedasticity\n",
      "[[ 1.73373722e-05 -5.30367346e-05]\n",
      " [-5.30367346e-05  1.25353337e-02]]\n"
     ]
    }
   ],
   "source": [
    "print(\"Covariance Matrix under the assumption of heteroscedasticity\")\n",
    "print(hetero_cov_var)"
   ]
  },
  {
   "cell_type": "markdown",
   "metadata": {},
   "source": [
    "### h)"
   ]
  },
  {
   "cell_type": "code",
   "execution_count": 23,
   "metadata": {
    "scrolled": true
   },
   "outputs": [
    {
     "name": "stdout",
     "output_type": "stream",
     "text": [
      "Confidence Interval at\n",
      "0.8999999999999999\n",
      "Confidence Interval of Constant coefficient\n",
      "[0.0011946]\n",
      "[0.01489234]\n",
      "Confidence Interval of Beta-1 coefficient\n",
      "[-0.13173045]\n",
      "[0.23658946]\n",
      "Confidence Interval at\n",
      "0.95\n",
      "Confidence Interval of Constant coefficient\n",
      "[-0.00011746]\n",
      "[0.0162044]\n",
      "Confidence Interval of Beta-1 coefficient\n",
      "[-0.16701062]\n",
      "[0.27186963]\n",
      "Confidence Interval at\n",
      "0.99\n",
      "Confidence Interval of Constant coefficient\n",
      "[-0.00268181]\n",
      "[0.01876876]\n",
      "Confidence Interval of Beta-1 coefficient\n",
      "[-0.23596371]\n",
      "[0.34082271]\n"
     ]
    }
   ],
   "source": [
    "# Part H\n",
    "CI(betaMatrix,standarderror_hetero)"
   ]
  },
  {
   "cell_type": "markdown",
   "metadata": {},
   "source": [
    "### j)"
   ]
  },
  {
   "cell_type": "code",
   "execution_count": 24,
   "metadata": {},
   "outputs": [
    {
     "name": "stdout",
     "output_type": "stream",
     "text": [
      "Akaike Information Criterion\n",
      "0   -671.66123\n",
      "dtype: float64\n",
      "Bayesian Information Criterion\n",
      "0   -664.509332\n",
      "dtype: float64\n",
      "Hannah-Quinn Information Criterion\n",
      "0   -668.78738\n",
      "dtype: float64\n"
     ]
    }
   ],
   "source": [
    "print(\"Akaike Information Criterion\")\n",
    "print(AIC)\n",
    "print(\"Bayesian Information Criterion\")\n",
    "print(BIC)\n",
    "print(\"Hannah-Quinn Information Criterion\")\n",
    "print(Hannah_Quinn)"
   ]
  },
  {
   "cell_type": "markdown",
   "metadata": {},
   "source": [
    "### k)"
   ]
  },
  {
   "cell_type": "code",
   "execution_count": 25,
   "metadata": {},
   "outputs": [
    {
     "name": "stdout",
     "output_type": "stream",
     "text": [
      "0    2.313946\n",
      "dtype: float64\n",
      "Breusch-Godfrey Value\n",
      "0    264.0\n",
      "dtype: float64\n",
      "23.209251158954356\n",
      "[-0.07534715 -0.00980562  0.03578813 -0.02838221  0.02610773  0.00861826\n",
      " -0.05224817  0.10290588 -0.01327722 -0.09274403]\n"
     ]
    },
    {
     "data": {
      "image/png": "[encoded data removed]",
      "text/plain": [
       "<Figure size 432x288 with 1 Axes>"
      ]
     },
     "metadata": {},
     "output_type": "display_data"
    }
   ],
   "source": [
    "# Part k\n",
    "\n",
    "print(DW)\n",
    "print(\"Breusch-Godfrey Value\")\n",
    "print(goffreyValue) #this is for lag of 10\n",
    "print(stats.chi2.ppf(0.99,10))\n",
    "print(betaMatrix_errors[0,:]) # sample of lag coefficients for last error term\n",
    "plt.scatter(np.linspace(1,10,10), betaMatrix_errors[0,:])\n",
    "plt.hlines(0, 1, 10)\n",
    "plt.title(\"Sample of the Lag oefficients\")\n",
    "plt.ylabel(\"Errors\")\n",
    "plt.xlabel(\"Lags\")\n",
    "plt.show()"
   ]
  },
  {
   "cell_type": "markdown",
   "metadata": {},
   "source": [
    "The DW test gives a value greater than 2. This implies that there is some negative autocorrelation in play but we do not know any more information from this test.\n",
    "The BG test gives a lagrange value of 264 which is greater than the chi squared critical value. Hence, the BG test implies that we reject the null hypothesis of uncorrelated error coefficients. This means that there exists autocorrelation in our error sample. The BG test was done with a lag of 10 errors."
   ]
  },
  {
   "cell_type": "markdown",
   "metadata": {},
   "source": [
    "### l)"
   ]
  },
  {
   "cell_type": "code",
   "execution_count": 26,
   "metadata": {},
   "outputs": [
    {
     "data": {
      "image/png": "[encoded data removed]",
      "text/plain": [
       "<Figure size 648x432 with 1 Axes>"
      ]
     },
     "metadata": {},
     "output_type": "display_data"
    }
   ],
   "source": [
    "# Part L, QQ\n",
    "\n",
    "n = 264\n",
    "\n",
    "# sorting e in ascending order\n",
    "\n",
    "e = pd.DataFrame(sorted(e[0]), columns = [\"residuals\"]) # sorting e in ascending order\n",
    "\n",
    "# Calculating z score\n",
    "\n",
    "e[\"z_score\"] = (e[\"residuals\"] - np.mean(e[\"residuals\"]))/np.std(e[\"residuals\"])\n",
    "\n",
    "# rank and percentile\n",
    "\n",
    "e[\"rank\"] = e.index + 1\n",
    "\n",
    "e[\"percentile\"] = e[\"rank\"]/n\n",
    "\n",
    "# theoretical z score\n",
    "\n",
    "e[\"theoretical\"] = stats.norm.ppf(e[\"percentile\"])\n",
    "\n",
    "# Plotting QQ Plot\n",
    "\n",
    "with plt.style.context(\"ggplot\"):\n",
    "    plt.figure(figsize=(9,6))\n",
    "    plt.scatter(e[\"theoretical\"], e[\"z_score\"], color=\"b\")\n",
    "    plt.xlabel(\"Theoretical Quantile\")\n",
    "    plt.ylabel(\"Sample Quantile\")\n",
    "    plt.title(\"Normal QQ Plot\")\n",
    "    plt.plot(e[\"theoretical\"], e[\"theoretical\"])\n",
    "    plt.show()\n"
   ]
  },
  {
   "cell_type": "code",
   "execution_count": 27,
   "metadata": {},
   "outputs": [
    {
     "name": "stdout",
     "output_type": "stream",
     "text": [
      "Skewness\n",
      "0.1704760320094467\n",
      "Kurtosis\n",
      "4.604339446915913\n",
      "JB\n",
      "29.3675076322071\n"
     ]
    }
   ],
   "source": [
    "# Part L, Formal\n",
    "\n",
    "n=264\n",
    "k=1\n",
    "\n",
    "# first cal skewness\n",
    "\n",
    "e_mean = np.mean(e[\"residuals\"])\n",
    "\n",
    "e_avg1 = np.sum((e[\"residuals\"] - e_mean)**3)/n\n",
    "\n",
    "e_avg2 = (np.sum((e[\"residuals\"] - e_mean)**2)/n)**(3/2)\n",
    "\n",
    "g = e_avg1/e_avg2\n",
    "\n",
    "skewness = g\n",
    "print(\"Skewness\")\n",
    "print(skewness)\n",
    "\n",
    "# Kurtosis\n",
    "\n",
    "e_avg3 = np.sum((e[\"residuals\"] - e_mean)**4)/n\n",
    "\n",
    "e_avg4 = (np.sum((e[\"residuals\"] - e_mean)**2)/n)**(4/2)\n",
    "\n",
    "g = e_avg3/e_avg4\n",
    "\n",
    "kurtosis = g\n",
    "\n",
    "print(\"Kurtosis\")\n",
    "print(kurtosis)\n",
    "\n",
    "# Calculate JB:\n",
    "\n",
    "JB = ((n-k-1)/6)*((skewness**2) + (((kurtosis - 3)**2)/4) )\n",
    "print(\"JB\")\n",
    "print(JB)"
   ]
  },
  {
   "cell_type": "markdown",
   "metadata": {},
   "source": [
    "From observing the QQ plot, the errors do appear to be normally distributed.\n",
    "Using the formal tests, the error terms are very slightly positively skewed, with a kurtosis slightly higher than that of the normal distribution, implying that the tails are slightly fatter than the normal distribution. The JB value is significantly higher than 0 and so the errors are not, in fact, normally distributed. They may be t distributed."
   ]
  },
  {
   "cell_type": "markdown",
   "metadata": {},
   "source": [
    "### m)"
   ]
  },
  {
   "cell_type": "code",
   "execution_count": 28,
   "metadata": {},
   "outputs": [
    {
     "name": "stdout",
     "output_type": "stream",
     "text": [
      "Variance Inflation factor\n",
      "1.0011789748351718\n"
     ]
    }
   ],
   "source": [
    "# part M, collinearity\n",
    "\n",
    "# Variance Inflation Factor(VIF)\n",
    "\n",
    "VIF = 1/ (1-RsquaredY)\n",
    "print(\"Variance Inflation factor\")\n",
    "print(VIF)"
   ]
  },
  {
   "cell_type": "markdown",
   "metadata": {},
   "source": [
    "The VIF value is extremely close to 1 and therefore there is no collinearity."
   ]
  },
  {
   "cell_type": "markdown",
   "metadata": {},
   "source": [
    "### n)"
   ]
  },
  {
   "cell_type": "code",
   "execution_count": 29,
   "metadata": {},
   "outputs": [
    {
     "name": "stdout",
     "output_type": "stream",
     "text": [
      "p_value =  [0.16241017]\n",
      "The p-value for our F-stat is 16.2%. Therefore, at 5% significance level, we fail to reject the Ramsey RESET test null hypothesis of correct specification. This indicates that the functional form is correct and our model does not suffer from omitted variables.\n"
     ]
    }
   ],
   "source": [
    "# Part N\n",
    "# using the Ramsey RESET test\n",
    "\n",
    "print(\"p_value = \", p_value)\n",
    "print(\"The p-value for our F-stat is 16.2%. Therefore, at 5% significance level, we fail to reject the Ramsey RESET test null hypothesis of correct specification. This indicates that the functional form is correct and our model does not suffer from omitted variables.\")"
   ]
  },
  {
   "cell_type": "markdown",
   "metadata": {},
   "source": [
    "### o)"
   ]
  },
  {
   "cell_type": "code",
   "execution_count": 31,
   "metadata": {
    "scrolled": true
   },
   "outputs": [
    {
     "name": "stdout",
     "output_type": "stream",
     "text": [
      "0.034978171120260484\n",
      "0.08073182080324551\n"
     ]
    },
    {
     "data": {
      "image/png": "[encoded data removed]",
      "text/plain": [
       "<Figure size 432x288 with 1 Axes>"
      ]
     },
     "metadata": {},
     "output_type": "display_data"
    }
   ],
   "source": [
    "# Part O\n",
    "\n",
    "#finding standard error\n",
    "standError = np.sqrt((np.sum(np.power((betaMatrix0[:,1]- np.mean(betaMatrix0[:,1])),2))/len(betaMatrix0[:,1])))/np.sqrt(len(betaMatrix0[:,1]))\n",
    "\n",
    "# 95% confidence interval\n",
    "upperBound = np.mean(betaMatrix0[:,1]) + 1.96*standError\n",
    "lowerBound = np.mean(betaMatrix0[:,1]) - 1.96*standError\n",
    "print(lowerBound)\n",
    "print(upperBound)\n",
    "\n",
    "plt.hist(betaMatrix0[:,1], bins=50)\n",
    "plt.vlines(upperBound, 0, 40, colors = \"g\", label = \"upper bound\")\n",
    "plt.vlines(lowerBound, 0, 40, colors = \"r\", label = \"lower bound\")\n",
    "plt.legend()\n",
    "plt.show()"
   ]
  },
  {
   "cell_type": "markdown",
   "metadata": {},
   "source": [
    "The beta coefficients when using a rolling 60 month regression are normally distributed as seen above from the graph. The upper and lower bounds of the 95% confidence interval are tight. As the sample size increases, expect this normality to continue showing because the distribution should approach an asymptotically normal distrbution."
   ]
  },
  {
   "cell_type": "markdown",
   "metadata": {},
   "source": [
    "## Question 2"
   ]
  },
  {
   "cell_type": "code",
   "execution_count": 32,
   "metadata": {},
   "outputs": [],
   "source": [
    "x_new = df[\"HH\"] - df[\"RF\"]\n",
    "x_df = pd.DataFrame(np.column_stack((x, x_new)))\n",
    "\n",
    "betaMatrix, RSS, RsquaredY, Rsquared_adjusted, covarianceMatrixY, standarderror,  hetero_cov_var, standarderror_hetero, AIC, BIC, Hannah_Quinn, DW, e, betaMatrix_errors, goffreyValue, p_value, betaMatrix0 = ols(x_df,y)"
   ]
  },
  {
   "cell_type": "code",
   "execution_count": 33,
   "metadata": {},
   "outputs": [
    {
     "name": "stdout",
     "output_type": "stream",
     "text": [
      "Standard Error\n",
      "[0.00419203 0.11984826 0.12575123]\n",
      "Residuals Sum of Squared\n",
      "0    1.194118\n",
      "dtype: float64\n"
     ]
    }
   ],
   "source": [
    "print(\"Standard Error\")\n",
    "print(standarderror)\n",
    "print(\"Residuals Sum of Squared\")\n",
    "print(RSS)"
   ]
  },
  {
   "cell_type": "markdown",
   "metadata": {},
   "source": [
    "### a)"
   ]
  },
  {
   "cell_type": "code",
   "execution_count": 34,
   "metadata": {},
   "outputs": [
    {
     "name": "stdout",
     "output_type": "stream",
     "text": [
      "Beta Matrix Coefficients\n",
      "[[ 0.00824356]\n",
      " [ 0.09675669]\n",
      " [-0.07486515]]\n",
      "R Squared\n",
      "0.002516759233544441\n",
      "Adjusted R Squared\n",
      "-0.0012904287083121968\n"
     ]
    }
   ],
   "source": [
    "print(\"Beta Matrix Coefficients\")\n",
    "print(betaMatrix)\n",
    "\n",
    "print(\"R Squared\")\n",
    "print(RsquaredY)\n",
    "\n",
    "print(\"Adjusted R Squared\")\n",
    "print(Rsquared_adjusted)"
   ]
  },
  {
   "cell_type": "markdown",
   "metadata": {},
   "source": [
    "### b)"
   ]
  },
  {
   "cell_type": "code",
   "execution_count": 35,
   "metadata": {},
   "outputs": [
    {
     "data": {
      "image/png": "[encoded data removed]",
      "text/plain": [
       "<Figure size 432x288 with 1 Axes>"
      ]
     },
     "metadata": {},
     "output_type": "display_data"
    },
    {
     "data": {
      "image/png": "[encoded data removed]",
      "text/plain": [
       "<Figure size 432x288 with 1 Axes>"
      ]
     },
     "metadata": {},
     "output_type": "display_data"
    }
   ],
   "source": [
    "# Part B:\n",
    "# Plotting\n",
    "plt.scatter(x_df[0],y)\n",
    "plt.plot(x_df[0], (betaMatrix[0] + betaMatrix[1][0]*x_df[0]))\n",
    "plt.xlabel(\"UN - RT\")\n",
    "plt.ylabel(\"MKT - RT\")\n",
    "plt.show()\n",
    "\n",
    "plt.scatter(x_df[1],y)\n",
    "plt.plot(x_df[1], (betaMatrix[0] + betaMatrix[2][0]*x_df[1]))\n",
    "plt.xlabel(\"HH - RT\")\n",
    "plt.ylabel(\"MKT - RT\")\n",
    "plt.show()"
   ]
  },
  {
   "cell_type": "markdown",
   "metadata": {},
   "source": [
    "### c)"
   ]
  },
  {
   "cell_type": "code",
   "execution_count": 36,
   "metadata": {},
   "outputs": [
    {
     "name": "stdout",
     "output_type": "stream",
     "text": [
      "Covariance Matrix\n",
      "[[ 1.75731474e-05 -2.86771282e-05 -4.22629427e-05]\n",
      " [-2.86771282e-05  1.43636066e-02 -9.36299966e-03]\n",
      " [-4.22629427e-05 -9.36299966e-03  1.58133727e-02]]\n"
     ]
    }
   ],
   "source": [
    "print(\"Covariance Matrix\")\n",
    "print(covarianceMatrixY)"
   ]
  },
  {
   "cell_type": "markdown",
   "metadata": {},
   "source": [
    "### d) and i)"
   ]
  },
  {
   "cell_type": "code",
   "execution_count": 37,
   "metadata": {},
   "outputs": [
    {
     "name": "stdout",
     "output_type": "stream",
     "text": [
      "t-test for constant estimate with assumption of homoscedasticity\n",
      "t-statistics Value\n",
      "[1.96648185]\n",
      "Reject Null Hypothesis at confidence interval 90%\n",
      "True\n",
      "Reject Null Hypothesis at confidence interval 95%\n",
      "False\n",
      "Reject Null Hypothesis at confidence interval 99%\n",
      "False\n",
      "t-test for beta-1 estimate with assumption of homoscedasticity\n",
      "t-statistics Value\n",
      "[0.80732662]\n",
      "Reject Null Hypothesis at confidence interval 90%\n",
      "False\n",
      "Reject Null Hypothesis at confidence interval 95%\n",
      "False\n",
      "Reject Null Hypothesis at confidence interval 99%\n",
      "False\n",
      "t-test for beta-2 estimate with assumption of homoscedasticity\n",
      "t-statistics Value\n",
      "[0.59534329]\n",
      "Reject Null Hypothesis at confidence interval 90%\n",
      "False\n",
      "Reject Null Hypothesis at confidence interval 95%\n",
      "False\n",
      "Reject Null Hypothesis at confidence interval 99%\n",
      "False\n",
      "t-test for constant estimate with assumption of heteroscedasticity\n",
      "t-statistics Value\n",
      "[1.94740291]\n",
      "Reject Null Hypothesis at confidence interval 90%\n",
      "True\n",
      "Reject Null Hypothesis at confidence interval 95%\n",
      "False\n",
      "Reject Null Hypothesis at confidence interval 99%\n",
      "False\n",
      "t-test for beta-1 estimate with assumption of heteroscedasticity\n",
      "t-statistics Value\n",
      "[0.63921242]\n",
      "Reject Null Hypothesis at confidence interval 90%\n",
      "False\n",
      "Reject Null Hypothesis at confidence interval 95%\n",
      "False\n",
      "Reject Null Hypothesis at confidence interval 99%\n",
      "False\n",
      "t-test for beta-2 estimate with assumption of heteroscedasticity\n",
      "t-statistics Value\n",
      "[0.47278902]\n",
      "Reject Null Hypothesis at confidence interval 90%\n",
      "False\n",
      "Reject Null Hypothesis at confidence interval 95%\n",
      "False\n",
      "Reject Null Hypothesis at confidence interval 99%\n",
      "False\n"
     ]
    }
   ],
   "source": [
    "# Part D     \n",
    "print(\"t-test for constant estimate with assumption of homoscedasticity\")\n",
    "t_test(betaMatrix[0],0, standarderror[0], n=264, k=1)\n",
    "print(\"t-test for beta-1 estimate with assumption of homoscedasticity\")\n",
    "t_test(betaMatrix[1],0, standarderror[1], n=264, k=1)\n",
    "print(\"t-test for beta-2 estimate with assumption of homoscedasticity\")\n",
    "t_test(betaMatrix[2],0, standarderror[2], n=264, k=1)\n",
    "\n",
    "# Part I\n",
    "print(\"t-test for constant estimate with assumption of heteroscedasticity\")\n",
    "t_test(betaMatrix[0],0, standarderror_hetero[0], n=264, k=1)\n",
    "print(\"t-test for beta-1 estimate with assumption of heteroscedasticity\")\n",
    "t_test(betaMatrix[1],0, standarderror_hetero[1], n=264, k=1)\n",
    "print(\"t-test for beta-2 estimate with assumption of heteroscedasticity\")\n",
    "t_test(betaMatrix[2],0, standarderror_hetero[2], n=264, k=1)"
   ]
  },
  {
   "cell_type": "markdown",
   "metadata": {},
   "source": [
    "### e)"
   ]
  },
  {
   "cell_type": "code",
   "execution_count": 38,
   "metadata": {},
   "outputs": [
    {
     "data": {
      "image/png": "[encoded data removed]",
      "text/plain": [
       "<Figure size 432x288 with 1 Axes>"
      ]
     },
     "metadata": {},
     "output_type": "display_data"
    },
    {
     "name": "stdout",
     "output_type": "stream",
     "text": [
      "Conclusion:\n",
      "There is no significant heteroskedasticity, due to the fact that there residuals error plot has no conical shape in the plot.\n"
     ]
    }
   ],
   "source": [
    "# Part E\n",
    "\n",
    "n=264\n",
    "\n",
    "plt.scatter(range(n),e)\n",
    "plt.show()\n",
    "print(\"Conclusion:\\nThere is no significant heteroskedasticity, due to the fact that there residuals error plot has no conical shape in the plot.\")\n"
   ]
  },
  {
   "cell_type": "markdown",
   "metadata": {},
   "source": [
    "### f)"
   ]
  },
  {
   "cell_type": "code",
   "execution_count": 39,
   "metadata": {},
   "outputs": [
    {
     "name": "stdout",
     "output_type": "stream",
     "text": [
      "Confidence Interval at\n",
      "0.8999999999999999\n",
      "Confidence Interval of Constant coefficient\n",
      "[0.00134828]\n",
      "[0.01513884]\n",
      "Confidence Interval of Beta-1 coefficient\n",
      "[-0.10037616]\n",
      "[0.29388955]\n",
      "Confidence Interval of Beta-1 coefficient\n",
      "[-0.28170752]\n",
      "[0.13197722]\n",
      "Confidence Interval at\n",
      "0.95\n",
      "Confidence Interval of Constant coefficient\n",
      "[2.73230974e-05]\n",
      "[0.01645979]\n",
      "Confidence Interval of Beta-1 coefficient\n",
      "[-0.13814159]\n",
      "[0.33165498]\n",
      "Confidence Interval of Beta-1 coefficient\n",
      "[-0.32133304]\n",
      "[0.17160274]\n",
      "Confidence Interval at\n",
      "0.99\n",
      "Confidence Interval of Constant coefficient\n",
      "[-0.00255441]\n",
      "[0.01904152]\n",
      "Confidence Interval of Beta-1 coefficient\n",
      "[-0.21195198]\n",
      "[0.40546537]\n",
      "Confidence Interval of Beta-1 coefficient\n",
      "[-0.39877886]\n",
      "[0.24904856]\n"
     ]
    }
   ],
   "source": [
    "# Part F\n",
    "CI(betaMatrix,standarderror)"
   ]
  },
  {
   "cell_type": "markdown",
   "metadata": {},
   "source": [
    "### g)"
   ]
  },
  {
   "cell_type": "code",
   "execution_count": 40,
   "metadata": {},
   "outputs": [
    {
     "name": "stdout",
     "output_type": "stream",
     "text": [
      "Covariance Matrix underthe assumptionof heteroscedasticity\n",
      "[[ 1.79191665e-05  3.63092230e-05 -1.45685176e-04]\n",
      " [ 3.63092230e-05  2.29124555e-02 -1.61751205e-02]\n",
      " [-1.45685176e-04 -1.61751205e-02  2.50740604e-02]]\n"
     ]
    }
   ],
   "source": [
    "print(\"Covariance Matrix underthe assumptionof heteroscedasticity\")\n",
    "print(hetero_cov_var)"
   ]
  },
  {
   "cell_type": "markdown",
   "metadata": {},
   "source": [
    "### h)"
   ]
  },
  {
   "cell_type": "code",
   "execution_count": 41,
   "metadata": {
    "scrolled": true
   },
   "outputs": [
    {
     "name": "stdout",
     "output_type": "stream",
     "text": [
      "Confidence Interval at\n",
      "0.8999999999999999\n",
      "Confidence Interval of Constant coefficient\n",
      "[0.00128072]\n",
      "[0.01520639]\n",
      "Confidence Interval of Beta-1 coefficient\n",
      "[-0.15222251]\n",
      "[0.3457359]\n",
      "Confidence Interval of Beta-1 coefficient\n",
      "[-0.33532429]\n",
      "[0.18559398]\n",
      "Confidence Interval at\n",
      "0.95\n",
      "Confidence Interval of Constant coefficient\n",
      "[-5.31723302e-05]\n",
      "[0.01654029]\n",
      "Confidence Interval of Beta-1 coefficient\n",
      "[-0.19992033]\n",
      "[0.39343371]\n",
      "Confidence Interval of Beta-1 coefficient\n",
      "[-0.38522135]\n",
      "[0.23549105]\n",
      "Confidence Interval at\n",
      "0.99\n",
      "Confidence Interval of Constant coefficient\n",
      "[-0.00266019]\n",
      "[0.01914731]\n",
      "Confidence Interval of Beta-1 coefficient\n",
      "[-0.293143]\n",
      "[0.48665639]\n",
      "Confidence Interval of Beta-1 coefficient\n",
      "[-0.48274234]\n",
      "[0.33301203]\n"
     ]
    }
   ],
   "source": [
    "# Part H\n",
    "CI(betaMatrix,standarderror_hetero)"
   ]
  },
  {
   "cell_type": "markdown",
   "metadata": {},
   "source": [
    "### j)"
   ]
  },
  {
   "cell_type": "code",
   "execution_count": 42,
   "metadata": {},
   "outputs": [
    {
     "name": "stdout",
     "output_type": "stream",
     "text": [
      "Akaike Information Criterion\n",
      "0   -672.015426\n",
      "dtype: float64\n",
      "Bayesian Information Criterion\n",
      "0   -664.863528\n",
      "dtype: float64\n",
      "Hannah-Quinn Information Criterion\n",
      "0   -669.141576\n",
      "dtype: float64\n"
     ]
    }
   ],
   "source": [
    "print(\"Akaike Information Criterion\")\n",
    "print(AIC)\n",
    "print(\"Bayesian Information Criterion\")\n",
    "print(BIC)\n",
    "print(\"Hannah-Quinn Information Criterion\")\n",
    "print(Hannah_Quinn)"
   ]
  },
  {
   "cell_type": "markdown",
   "metadata": {},
   "source": [
    "### k)"
   ]
  },
  {
   "cell_type": "code",
   "execution_count": 43,
   "metadata": {
    "scrolled": true
   },
   "outputs": [
    {
     "name": "stdout",
     "output_type": "stream",
     "text": [
      "0    2.281596\n",
      "dtype: float64\n",
      "Breusch-Godfrey Value\n",
      "0    264.0\n",
      "dtype: float64\n",
      "23.209251158954356\n",
      "[-0.07242076 -0.00860455  0.03599046 -0.02693763  0.02483055  0.00854216\n",
      " -0.04835257  0.09843266 -0.01329041 -0.08830549]\n"
     ]
    },
    {
     "data": {
      "image/png": "[encoded data removed]",
      "text/plain": [
       "<Figure size 432x288 with 1 Axes>"
      ]
     },
     "metadata": {},
     "output_type": "display_data"
    }
   ],
   "source": [
    "# Part k\n",
    "\n",
    "print(DW)\n",
    "print(\"Breusch-Godfrey Value\")\n",
    "print(goffreyValue) #this is for lag of 10\n",
    "print(stats.chi2.ppf(0.99,10))\n",
    "print(betaMatrix_errors[0,:]) # sample of lag coefficients for last error term\n",
    "plt.scatter(np.linspace(1,10,10), betaMatrix_errors[0,:])\n",
    "plt.hlines(0, 1, 10)\n",
    "plt.title(\"Sample of the lag coefficients\")\n",
    "plt.ylabel(\"Errors\")\n",
    "plt.xlabel(\"Lags\")\n",
    "plt.show()"
   ]
  },
  {
   "cell_type": "markdown",
   "metadata": {},
   "source": [
    "The DW test gives a value greater than 2. This implies that there is some negative autocorrelation in play but we do not know any more information from this test. The BG test gives a lagrange value of 264 which is greater than the chi squared critical value. Hence, the BG test implies that we reject the null hypothesis of uncorrelated error coefficients. This means that there exists autocorrelation in our error sample. The BG test was done with a lag of 10 errors."
   ]
  },
  {
   "cell_type": "markdown",
   "metadata": {},
   "source": [
    "### l)"
   ]
  },
  {
   "cell_type": "code",
   "execution_count": 44,
   "metadata": {},
   "outputs": [
    {
     "data": {
      "image/png": "[encoded data removed]",
      "text/plain": [
       "<Figure size 648x432 with 1 Axes>"
      ]
     },
     "metadata": {},
     "output_type": "display_data"
    }
   ],
   "source": [
    "# Part L, QQ\n",
    "\n",
    "n = 264\n",
    "\n",
    "# sorting e in ascending order\n",
    "\n",
    "e = pd.DataFrame(sorted(e[0]), columns = [\"residuals\"]) # sorting e in ascending order\n",
    "\n",
    "# Calculating z score\n",
    "\n",
    "e[\"z_score\"] = (e[\"residuals\"] - np.mean(e[\"residuals\"]))/np.std(e[\"residuals\"])\n",
    "\n",
    "# rank and percentile\n",
    "\n",
    "e[\"rank\"] = e.index + 1\n",
    "\n",
    "e[\"percentile\"] = e[\"rank\"]/n\n",
    "\n",
    "# theoretical z score\n",
    "\n",
    "e[\"theoretical\"] = stats.norm.ppf(e[\"percentile\"])\n",
    "\n",
    "# Plotting QQ Plot\n",
    "\n",
    "with plt.style.context(\"ggplot\"):\n",
    "    plt.figure(figsize=(9,6))\n",
    "    plt.scatter(e[\"theoretical\"], e[\"z_score\"], color=\"b\")\n",
    "    plt.xlabel(\"Theoretical Quantile\")\n",
    "    plt.ylabel(\"Sample Quantile\")\n",
    "    plt.title(\"Normal QQ Plot\")\n",
    "    plt.plot(e[\"theoretical\"], e[\"theoretical\"])\n",
    "    plt.show()\n"
   ]
  },
  {
   "cell_type": "code",
   "execution_count": 45,
   "metadata": {},
   "outputs": [
    {
     "name": "stdout",
     "output_type": "stream",
     "text": [
      "Skewness\n",
      "0.15356408479031847\n",
      "Kurtosis\n",
      "4.601989781500501\n",
      "JB\n",
      "29.04596378401991\n"
     ]
    }
   ],
   "source": [
    "# Part L, Formal\n",
    "\n",
    "n=264\n",
    "k=1\n",
    "\n",
    "# first cal skewness\n",
    "\n",
    "e_mean = np.mean(e[\"residuals\"])\n",
    "\n",
    "e_avg1 = np.sum((e[\"residuals\"] - e_mean)**3)/n\n",
    "\n",
    "e_avg2 = (np.sum((e[\"residuals\"] - e_mean)**2)/n)**(3/2)\n",
    "\n",
    "g = e_avg1/e_avg2\n",
    "\n",
    "skewness = g\n",
    "print(\"Skewness\")\n",
    "print(skewness)\n",
    "\n",
    "# Kurtosis\n",
    "\n",
    "e_avg3 = np.sum((e[\"residuals\"] - e_mean)**4)/n\n",
    "\n",
    "e_avg4 = (np.sum((e[\"residuals\"] - e_mean)**2)/n)**(4/2)\n",
    "\n",
    "g = e_avg3/e_avg4\n",
    "\n",
    "kurtosis = g\n",
    "\n",
    "print(\"Kurtosis\")\n",
    "print(kurtosis)\n",
    "\n",
    "# Calculate JB:\n",
    "\n",
    "JB = ((n-k-1)/6)*((skewness**2) + (((kurtosis - 3)**2)/4) )\n",
    "\n",
    "# Not that different from the OLS down \n",
    "print(\"JB\")\n",
    "print(JB)\n"
   ]
  },
  {
   "cell_type": "markdown",
   "metadata": {},
   "source": [
    "From observing the QQ plot, the errors do appear to be normally distributed.\n",
    "Using the formal tests, the error terms are very slightly positively skewed, with a kurtosis slightly higher than that of the normal distribution, implying that the tails are slightly fatter than the normal distribution. The JB value is significantly higher than 0 and so the errors are not, in fact, normally distributed. They may be t distributed."
   ]
  },
  {
   "cell_type": "markdown",
   "metadata": {},
   "source": [
    "### n)"
   ]
  },
  {
   "cell_type": "code",
   "execution_count": 46,
   "metadata": {},
   "outputs": [
    {
     "name": "stdout",
     "output_type": "stream",
     "text": [
      "p_value =  [0.10091031]\n",
      "The p-value for our F-stat is 10.09%. Therefore, at 5% significance level, we fail to reject the Ramsey RESET test null hypothesis of correct specification. This indicates that the functional form is correct and our model does not suffer from omitted variables.\n"
     ]
    }
   ],
   "source": [
    "# Part N\n",
    "# using the Ramsey RESET test\n",
    "\n",
    "print(\"p_value = \", p_value)\n",
    "print(\"The p-value for our F-stat is 10.09%. Therefore, at 5% significance level, we fail to reject the Ramsey RESET test null hypothesis of correct specification. This indicates that the functional form is correct and our model does not suffer from omitted variables.\")"
   ]
  },
  {
   "cell_type": "markdown",
   "metadata": {},
   "source": [
    "### o)"
   ]
  },
  {
   "cell_type": "code",
   "execution_count": 50,
   "metadata": {
    "scrolled": false
   },
   "outputs": [
    {
     "name": "stdout",
     "output_type": "stream",
     "text": [
      "0.06697821783669576\n",
      "0.151502718730405\n"
     ]
    },
    {
     "data": {
      "image/png": "[encoded data removed]",
      "text/plain": [
       "<Figure size 432x288 with 1 Axes>"
      ]
     },
     "metadata": {},
     "output_type": "display_data"
    },
    {
     "name": "stdout",
     "output_type": "stream",
     "text": [
      "-0.08999097813729821\n",
      "-0.013521275980060254\n"
     ]
    },
    {
     "data": {
      "image/png": "[encoded data removed]",
      "text/plain": [
       "<Figure size 432x288 with 1 Axes>"
      ]
     },
     "metadata": {},
     "output_type": "display_data"
    }
   ],
   "source": [
    "# Part O\n",
    "\n",
    "# for beta1\n",
    "#finding standard error\n",
    "standError = np.sqrt((np.sum(np.power((betaMatrix0[:,1]- np.mean(betaMatrix0[:,1])),2))/len(betaMatrix0[:,1])))/np.sqrt(len(betaMatrix0[:,1]))\n",
    "\n",
    "# 95% confidence interval\n",
    "upperBound = np.mean(betaMatrix0[:,1]) + 1.96*standError\n",
    "lowerBound = np.mean(betaMatrix0[:,1]) - 1.96*standError\n",
    "\n",
    "print(lowerBound)\n",
    "print(upperBound)\n",
    "\n",
    "plt.hist(betaMatrix0[:,1], bins=50)\n",
    "plt.vlines(upperBound, 0, 40, colors = \"g\", label = \"upper bound\")\n",
    "plt.vlines(lowerBound, 0, 40, colors = \"r\", label = \"lower bound\")\n",
    "plt.legend()\n",
    "plt.title(\"Plot for Beta 1\")\n",
    "plt.show()\n",
    "\n",
    "# for beta2\n",
    "standError = np.sqrt((np.sum(np.power((betaMatrix0[:,2]- np.mean(betaMatrix0[:,2])),2))/len(betaMatrix0[:,2])))/np.sqrt(len(betaMatrix0[:,2]))\n",
    "\n",
    "# 95% confidence interval\n",
    "upperBound = np.mean(betaMatrix0[:,2]) + 1.96*standError\n",
    "lowerBound = np.mean(betaMatrix0[:,2]) - 1.96*standError\n",
    "\n",
    "print(lowerBound)\n",
    "print(upperBound)\n",
    "\n",
    "plt.hist(betaMatrix0[:,2], bins=50)\n",
    "plt.vlines(upperBound, 0, 40, colors = \"g\", label = \"upper bound\")\n",
    "plt.vlines(lowerBound, 0, 40, colors = \"r\", label = \"lower bound\")\n",
    "plt.legend()\n",
    "plt.title(\"Plot for Beta 2\")\n",
    "plt.show()"
   ]
  },
  {
   "cell_type": "markdown",
   "metadata": {},
   "source": [
    "Both beta coefficients when using a rolling 60 month regression are normally distributed as seen above from the graphs. The upper and lower bounds of the 95% confidence interval are tight. As the sample size increases, expect this normality to continue showing because the distribution should approach an asymptotically normal distrbution."
   ]
  },
  {
   "cell_type": "markdown",
   "metadata": {},
   "source": [
    "### m)"
   ]
  },
  {
   "cell_type": "code",
   "execution_count": 52,
   "metadata": {},
   "outputs": [
    {
     "name": "stdout",
     "output_type": "stream",
     "text": [
      "Variance Inflation Factor\n",
      "1.0025231092921527\n"
     ]
    }
   ],
   "source": [
    "# part M, collinearity\n",
    "\n",
    "# Variance Inflation Factor(VIF)\n",
    "\n",
    "# regress df[\"MKT\"] - df[\"RF\"] on df[\"HH\"] - df[\"RF\"]\n",
    "ols(x,pd.DataFrame(x_new))\n",
    "\n",
    "VIF = 1/(1-RsquaredY)\n",
    "print(\"Variance Inflation Factor\")\n",
    "print(VIF)"
   ]
  },
  {
   "cell_type": "markdown",
   "metadata": {},
   "source": [
    "The VIF value is pretty close to 1 and therefore this implies that no collinearity exists between the two independent variables. "
   ]
  }
 ],
 "metadata": {
  "kernelspec": {
   "display_name": "Python 3",
   "language": "python",
   "name": "python3"
  },
  "language_info": {
   "codemirror_mode": {
    "name": "ipython",
    "version": 3
   },
   "file_extension": ".py",
   "mimetype": "text/x-python",
   "name": "python",
   "nbconvert_exporter": "python",
   "pygments_lexer": "ipython3",
   "version": "3.6.5"
  }
 },
 "nbformat": 4,
 "nbformat_minor": 2
}
